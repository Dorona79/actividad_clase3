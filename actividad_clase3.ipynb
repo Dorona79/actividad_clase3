{
 "cells": [
  {
   "cell_type": "markdown",
   "metadata": {},
   "source": [
    "# EJERCICIOS DE DATOS COMPLEJOS\n",
    "\n",
    "### DATOS SIMPLES:\n",
    "\n",
    "\n",
    " ### Crear una lista de nombres de ciudades."
   ]
  },
  {
   "cell_type": "code",
   "execution_count": 1,
   "metadata": {},
   "outputs": [
    {
     "name": "stdout",
     "output_type": "stream",
     "text": [
      "['Río Grande', 'Tolhuin', 'Ushuaia', 'Tandil', 'La Plata', 'Mar del Plata']\n"
     ]
    }
   ],
   "source": [
    "ciudades = [\"Río Grande\", \"Tolhuin\", \"Ushuaia\", \"Tandil\", \"La Plata\", \"Mar del Plata\"]\n",
    "print(ciudades)"
   ]
  },
  {
   "cell_type": "markdown",
   "metadata": {},
   "source": [
    "### Crear un diccionario con información de empleados (nombre, cargo, salario)."
   ]
  },
  {
   "cell_type": "code",
   "execution_count": 9,
   "metadata": {},
   "outputs": [
    {
     "name": "stdout",
     "output_type": "stream",
     "text": [
      "({'nombre': 'Luis', 'cargo': 'Policía', 'salario': 750000}, {'nombre': 'Sofía', 'cargo': 'Enfermera', 'salario': 500000}, {'nombre': 'Mario', 'cargo': 'Médico', 'salario': 1000000})\n"
     ]
    }
   ],
   "source": [
    "empleados = {\"nombre\": \"Luis\", \"cargo\": \"Policía\", \"salario\": 750000}, {\"nombre\": \"Sofía\", \"cargo\": \"Enfermera\", \"salario\": 500000}, {\"nombre\": \"Mario\", \"cargo\": \"Médico\", \"salario\": 1000000}\n",
    "print(empleados)"
   ]
  },
  {
   "cell_type": "markdown",
   "metadata": {},
   "source": [
    "### Mostrar cómo acceder a un elemento específico en una lista y en un diccionario."
   ]
  },
  {
   "cell_type": "code",
   "execution_count": 13,
   "metadata": {},
   "outputs": [
    {
     "name": "stdout",
     "output_type": "stream",
     "text": [
      "Río Grande\n"
     ]
    }
   ],
   "source": [
    "ciudades = [\"Río Grande\", \"Tolhuin\", \"Ushuaia\", \"Tandil\", \"La Plata\", \"Mar del Plata\"]\n",
    "print(ciudades[0])"
   ]
  },
  {
   "cell_type": "code",
   "execution_count": 19,
   "metadata": {},
   "outputs": [
    {
     "name": "stdout",
     "output_type": "stream",
     "text": [
      "Sofía\n"
     ]
    }
   ],
   "source": [
    "empleados = {\"nombre\": \"Luis\", \"cargo\": \"Policía\", \"salario\": 750000}, {\"nombre\": \"Sofía\", \"cargo\": \"Enfermera\", \"salario\": 500000}, {\"nombre\": \"Mario\", \"cargo\": \"Médico\", \"salario\": 1000000}\n",
    "empleado_2 = empleados[1]\n",
    "print(empleado_2[\"nombre\"])   \n"
   ]
  },
  {
   "cell_type": "markdown",
   "metadata": {},
   "source": [
    "# MANIPULACIÓN DE LISTAS Y MÉTODOS:\n",
    "\n",
    "### Crea una lista inicial de números enteros."
   ]
  },
  {
   "cell_type": "code",
   "execution_count": 1,
   "metadata": {},
   "outputs": [
    {
     "name": "stdout",
     "output_type": "stream",
     "text": [
      "[10, 20, 30, 40, 50]\n"
     ]
    }
   ],
   "source": [
    "numeros_enteros = [10, 20, 30, 40, 50]\n",
    "print(numeros_enteros)"
   ]
  },
  {
   "cell_type": "markdown",
   "metadata": {},
   "source": [
    "### Utiliza el método .append() para agregar un número al final de la lista."
   ]
  },
  {
   "cell_type": "code",
   "execution_count": 2,
   "metadata": {},
   "outputs": [
    {
     "name": "stdout",
     "output_type": "stream",
     "text": [
      "[10, 20, 30, 40, 50, 60]\n"
     ]
    }
   ],
   "source": [
    "numeros_enteros = [10, 20, 30, 40, 50]\n",
    "numeros_enteros.append(60)\n",
    "print(numeros_enteros)"
   ]
  },
  {
   "cell_type": "markdown",
   "metadata": {},
   "source": [
    "### Utiliza el método .extend() para agregar múltiples elementos a la lista."
   ]
  },
  {
   "cell_type": "code",
   "execution_count": 3,
   "metadata": {},
   "outputs": [
    {
     "name": "stdout",
     "output_type": "stream",
     "text": [
      "[10, 20, 30, 40, 50, 60, 70, 80]\n"
     ]
    }
   ],
   "source": [
    "numeros_enteros = [10, 20, 30, 40, 50]\n",
    "numeros_nuevos = [60, 70, 80]\n",
    "numeros_enteros.extend(numeros_nuevos)\n",
    "print(numeros_enteros)"
   ]
  },
  {
   "cell_type": "markdown",
   "metadata": {},
   "source": [
    "### Utiliza el método .insert() para insertar un número en una posición específica de la lista."
   ]
  },
  {
   "cell_type": "code",
   "execution_count": 5,
   "metadata": {},
   "outputs": [
    {
     "name": "stdout",
     "output_type": "stream",
     "text": [
      "[10, 20, 30, 40, 90, 50]\n"
     ]
    }
   ],
   "source": [
    "numeros_enteros = [10, 20, 30, 40, 50]\n",
    "numero_nuevo = 90\n",
    "posicion = 4\n",
    "numeros_enteros.insert(posicion, numero_nuevo)\n",
    "print(numeros_enteros)"
   ]
  },
  {
   "cell_type": "markdown",
   "metadata": {},
   "source": [
    "### Muestra cómo utilizar el método .sort() para ordenar la lista de números de forma ascendente."
   ]
  },
  {
   "cell_type": "code",
   "execution_count": 6,
   "metadata": {},
   "outputs": [
    {
     "name": "stdout",
     "output_type": "stream",
     "text": [
      "[1, 3, 6, 8, 10]\n"
     ]
    }
   ],
   "source": [
    "numeros_enteros = [10, 6, 3, 8, 1]\n",
    "numeros_enteros.sort()\n",
    "print(numeros_enteros)"
   ]
  },
  {
   "cell_type": "markdown",
   "metadata": {},
   "source": [
    "# MANIPULACIÓN DE DICCIONARIOS Y MÉTODOS:\n",
    "\n",
    "### Crea un diccionario con información de productos (nombre del producto, precio, cantidad en stock)."
   ]
  },
  {
   "cell_type": "code",
   "execution_count": 9,
   "metadata": {},
   "outputs": [
    {
     "name": "stdout",
     "output_type": "stream",
     "text": [
      "{'Puerta': {'precio': 100, 'cantidad': 50}, 'Plancha': {'precio': 300, 'cantidad': 30}, 'Silla': {'precio': 450, 'cantidad': 25}}\n"
     ]
    }
   ],
   "source": [
    "productos = {\n",
    "    \"Puerta\": {\"precio\": 100, \"cantidad\": 50},\n",
    "    \"Plancha\": {\"precio\": 300, \"cantidad\": 30},\n",
    "    \"Silla\": {\"precio\": 450, \"cantidad\": 25},\n",
    "}\n",
    "print(productos)"
   ]
  },
  {
   "cell_type": "markdown",
   "metadata": {},
   "source": [
    "### Utiliza el método .keys() para obtener una lista de las llaves (nombres de productos) en el diccionario."
   ]
  },
  {
   "cell_type": "code",
   "execution_count": 12,
   "metadata": {},
   "outputs": [
    {
     "name": "stdout",
     "output_type": "stream",
     "text": [
      "Lista de nombres de productos:\n",
      "['Puerta', 'Plancha', 'Silla']\n"
     ]
    }
   ],
   "source": [
    "productos = {\n",
    "    \"Puerta\": {\"precio\": 100, \"cantidad\": 50},\n",
    "    \"Plancha\": {\"precio\": 300, \"cantidad\": 30},\n",
    "    \"Silla\": {\"precio\": 450, \"cantidad\": 25},\n",
    "}\n",
    "nombres_productos = list(productos.keys())\n",
    "print(\"Lista de nombres de productos:\")\n",
    "print(nombres_productos)"
   ]
  },
  {
   "cell_type": "markdown",
   "metadata": {},
   "source": [
    "### Utiliza el método .values() para obtener una lista de los valores (precios y cantidades) en el diccionario."
   ]
  },
  {
   "cell_type": "code",
   "execution_count": 15,
   "metadata": {},
   "outputs": [
    {
     "name": "stdout",
     "output_type": "stream",
     "text": [
      "Lista de precios y cantidades:\n",
      "{'precio': 100, 'cantidad': 50}\n",
      "{'precio': 300, 'cantidad': 30}\n",
      "{'precio': 450, 'cantidad': 25}\n"
     ]
    }
   ],
   "source": [
    "productos = {\n",
    "    \"Puerta\": {\"precio\": 100, \"cantidad\": 50},\n",
    "    \"Plancha\": {\"precio\": 300, \"cantidad\": 30},\n",
    "    \"Silla\": {\"precio\": 450, \"cantidad\": 25},\n",
    "}\n",
    "precio_cantidades = list(productos.values())\n",
    "print(\"Lista de precios y cantidades:\")\n",
    "for valores in precio_cantidades:\n",
    "    print(valores)"
   ]
  },
  {
   "cell_type": "markdown",
   "metadata": {},
   "source": [
    "### Utiliza el método .items() para obtener una lista de tuplas con pares clave-valor del diccionario."
   ]
  },
  {
   "cell_type": "code",
   "execution_count": 34,
   "metadata": {},
   "outputs": [
    {
     "name": "stdout",
     "output_type": "stream",
     "text": [
      "Lista de tuplas con pares clave-valor:\n",
      "Puerta : {'precio': 100, 'cantidad': 50}\n",
      "Plancha : {'precio': 300, 'cantidad': 30}\n",
      "Silla : {'precio': 450, 'cantidad': 25}\n"
     ]
    }
   ],
   "source": [
    "productos = {\n",
    "    \"Puerta\": {\"precio\": 100, \"cantidad\": 50},\n",
    "    \"Plancha\": {\"precio\": 300, \"cantidad\": 30},\n",
    "    \"Silla\": {\"precio\": 450, \"cantidad\": 25},\n",
    "}\n",
    "lista_productos = list(productos.items())\n",
    "print(\"Lista de tuplas con pares clave-valor:\")\n",
    "for clave, valor in lista_productos:\n",
    "    print(clave, \":\", valor)"
   ]
  },
  {
   "cell_type": "markdown",
   "metadata": {},
   "source": [
    "### Muestra cómo utilizar el método .get() para obtener el precio de un producto específico del diccionario."
   ]
  },
  {
   "cell_type": "code",
   "execution_count": 1,
   "metadata": {},
   "outputs": [
    {
     "name": "stdout",
     "output_type": "stream",
     "text": [
      "El precio de la Silla es: $450\n"
     ]
    }
   ],
   "source": [
    "productos = {\n",
    "    \"Puerta\": {\"precio\": 100, \"cantidad\": 50},\n",
    "    \"Plancha\": {\"precio\": 300, \"cantidad\": 30},\n",
    "    \"Silla\": {\"precio\": 450, \"cantidad\": 25},\n",
    "}\n",
    "nombre_producto = \"Silla\"\n",
    "precio_producto = productos.get(nombre_producto, {}).get(\"precio\")\n",
    "print(f\"El precio de la {nombre_producto} es: ${precio_producto}\")"
   ]
  },
  {
   "cell_type": "markdown",
   "metadata": {},
   "source": [
    "# DATOS COMPLEJOS:\n",
    "\n",
    "### Crear una lista de diccionarios que represente información de libros (título, autor, año de publicación)."
   ]
  },
  {
   "cell_type": "code",
   "execution_count": 35,
   "metadata": {},
   "outputs": [
    {
     "name": "stdout",
     "output_type": "stream",
     "text": [
      "[{'titulo': 'El Principito', 'autor': 'Antoine de Saint-Exupéry', 'año_publicacion': 1943}, {'titulo': 'El libro de la Selva', 'autor': 'Rudyard Kipling', 'año_publicacion': 1894}, {'titulo': 'Matilda', 'autor': 'Roald Dahl', 'año_publicacion': 1988}]\n"
     ]
    }
   ],
   "source": [
    "libros = [\n",
    "    {\"titulo\": \"El Principito\", \"autor\": \"Antoine de Saint-Exupéry\", \"año_publicacion\": 1943},\n",
    "    {\"titulo\": \"El libro de la Selva\", \"autor\": \"Rudyard Kipling\", \"año_publicacion\": 1894},\n",
    "    {\"titulo\": \"Matilda\", \"autor\": \"Roald Dahl\", \"año_publicacion\": 1988},\n",
    "]\n",
    "print(libros)"
   ]
  },
  {
   "cell_type": "markdown",
   "metadata": {},
   "source": [
    "### Crear un diccionario que contenga listas como valores (por ejemplo, un diccionario de estudiantes y sus materias)."
   ]
  },
  {
   "cell_type": "code",
   "execution_count": 36,
   "metadata": {},
   "outputs": [
    {
     "name": "stdout",
     "output_type": "stream",
     "text": [
      "{'Diego': ['Ciencia de Datos', 'Civica', 'Historia'], 'Ariel': ['Literatura', 'Ciencias Sociales', 'Inglés'], 'Andres': ['Matemáticas', 'Física', 'Química']}\n"
     ]
    }
   ],
   "source": [
    "estudiantes_materias = {\n",
    "    \"Diego\": [\"Ciencia de Datos\", \"Civica\", \"Historia\"],\n",
    "    \"Ariel\": [\"Literatura\", \"Ciencias Sociales\", \"Inglés\"],\n",
    "    \"Andres\": [\"Matemáticas\", \"Física\", \"Química\"],\n",
    "}\n",
    "print(estudiantes_materias)"
   ]
  },
  {
   "cell_type": "markdown",
   "metadata": {},
   "source": [
    "### Mostrar cómo modificar un valor en una lista dentro de un diccionario y viceversa."
   ]
  },
  {
   "cell_type": "code",
   "execution_count": 40,
   "metadata": {},
   "outputs": [
    {
     "name": "stdout",
     "output_type": "stream",
     "text": [
      "Estudiante: Diego\n",
      "Nueva Materia: Tecnología\n"
     ]
    }
   ],
   "source": [
    "estudiantes_materias = {\n",
    "    \"Diego\": [\"Ciencia de Datos\", \"Civica\", \"Historia\"],\n",
    "    \"Ariel\": [\"Literatura\", \"Ciencias Sociales\", \"Inglés\"],\n",
    "    \"Andres\": [\"Matemáticas\", \"Física\", \"Química\"],\n",
    "}\n",
    "estudiante = \"Diego\"\n",
    "nueva_materia = \"Tecnología\"\n",
    "estudiantes_materias[estudiante][1] = nueva_materia\n",
    "print(f\"Estudiante: {estudiante}\")\n",
    "print(f\"Nueva Materia: {nueva_materia}\")"
   ]
  },
  {
   "cell_type": "code",
   "execution_count": 43,
   "metadata": {},
   "outputs": [
    {
     "name": "stdout",
     "output_type": "stream",
     "text": [
      "Lista de libros actualizada:\n",
      "[{'titulo': 'El Principito', 'autor': 'Antoine de Saint-Exupéry', 'año_publicacion': 1943}, {'titulo': 'El libro de la Selva', 'autor': 'Rudyard Kipling', 'año_publicacion': 1979}, {'titulo': 'Matilda', 'autor': 'Roald Dahl', 'año_publicacion': 1988}]\n"
     ]
    }
   ],
   "source": [
    "libros = [\n",
    "    {\"titulo\": \"El Principito\", \"autor\": \"Antoine de Saint-Exupéry\", \"año_publicacion\": 1943},\n",
    "    {\"titulo\": \"El libro de la Selva\", \"autor\": \"Rudyard Kipling\", \"año_publicacion\": 1894},\n",
    "    {\"titulo\": \"Matilda\", \"autor\": \"Roald Dahl\", \"año_publicacion\": 1988},\n",
    "]\n",
    "indice_libro = 1\n",
    "nuevo_año = 1979\n",
    "libros[indice_libro][\"año_publicacion\"] = nuevo_año\n",
    "print(\"Lista de libros actualizada:\")\n",
    "print(libros)"
   ]
  }
 ],
 "metadata": {
  "kernelspec": {
   "display_name": "Python 3",
   "language": "python",
   "name": "python3"
  },
  "language_info": {
   "codemirror_mode": {
    "name": "ipython",
    "version": 3
   },
   "file_extension": ".py",
   "mimetype": "text/x-python",
   "name": "python",
   "nbconvert_exporter": "python",
   "pygments_lexer": "ipython3",
   "version": "3.11.5"
  }
 },
 "nbformat": 4,
 "nbformat_minor": 2
}
