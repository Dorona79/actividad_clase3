{
 "cells": [
  {
   "cell_type": "markdown",
   "metadata": {},
   "source": [
    "# EJERCICIOS DE DATOS COMPLEJOS:\n",
    "\n",
    "# DATOS SIMPLES:\n",
    "\n",
    "\n",
    " # Crear una lista de nombres de ciudades."
   ]
  },
  {
   "cell_type": "code",
   "execution_count": 1,
   "metadata": {},
   "outputs": [
    {
     "name": "stdout",
     "output_type": "stream",
     "text": [
      "['Río Grande', 'Tolhuin', 'Ushuaia', 'Tandil', 'La Plata', 'Mar del Plata']\n"
     ]
    }
   ],
   "source": [
    "ciudades = [\"Río Grande\", \"Tolhuin\", \"Ushuaia\", \"Tandil\", \"La Plata\", \"Mar del Plata\"]\n",
    "print(ciudades)"
   ]
  },
  {
   "cell_type": "markdown",
   "metadata": {},
   "source": [
    "# Crear un diccionario con información de empleados (nombre, cargo, salario)."
   ]
  },
  {
   "cell_type": "code",
   "execution_count": 9,
   "metadata": {},
   "outputs": [
    {
     "name": "stdout",
     "output_type": "stream",
     "text": [
      "({'nombre': 'Luis', 'cargo': 'Policía', 'salario': 750000}, {'nombre': 'Sofía', 'cargo': 'Enfermera', 'salario': 500000}, {'nombre': 'Mario', 'cargo': 'Médico', 'salario': 1000000})\n"
     ]
    }
   ],
   "source": [
    "empleados = {\"nombre\": \"Luis\", \"cargo\": \"Policía\", \"salario\": 750000}, {\"nombre\": \"Sofía\", \"cargo\": \"Enfermera\", \"salario\": 500000}, {\"nombre\": \"Mario\", \"cargo\": \"Médico\", \"salario\": 1000000}\n",
    "print(empleados)"
   ]
  },
  {
   "cell_type": "markdown",
   "metadata": {},
   "source": [
    "# Mostrar cómo acceder a un elemento específico en una lista y en un diccionario."
   ]
  },
  {
   "cell_type": "code",
   "execution_count": 13,
   "metadata": {},
   "outputs": [
    {
     "name": "stdout",
     "output_type": "stream",
     "text": [
      "Río Grande\n"
     ]
    }
   ],
   "source": [
    "ciudades = [\"Río Grande\", \"Tolhuin\", \"Ushuaia\", \"Tandil\", \"La Plata\", \"Mar del Plata\"]\n",
    "print(ciudades[0])"
   ]
  },
  {
   "cell_type": "code",
   "execution_count": 19,
   "metadata": {},
   "outputs": [
    {
     "name": "stdout",
     "output_type": "stream",
     "text": [
      "Sofía\n"
     ]
    }
   ],
   "source": [
    "empleados = {\"nombre\": \"Luis\", \"cargo\": \"Policía\", \"salario\": 750000}, {\"nombre\": \"Sofía\", \"cargo\": \"Enfermera\", \"salario\": 500000}, {\"nombre\": \"Mario\", \"cargo\": \"Médico\", \"salario\": 1000000}\n",
    "empleado_2 = empleados[1]\n",
    "print(empleado_2[\"nombre\"])   \n"
   ]
  },
  {
   "cell_type": "markdown",
   "metadata": {},
   "source": [
    "# MANIPULACIÓN DE LISTAS Y MÉTODOS:\n",
    "\n",
    "# Crea una lista inicial de números enteros."
   ]
  }
 ],
 "metadata": {
  "kernelspec": {
   "display_name": "Python 3",
   "language": "python",
   "name": "python3"
  },
  "language_info": {
   "codemirror_mode": {
    "name": "ipython",
    "version": 3
   },
   "file_extension": ".py",
   "mimetype": "text/x-python",
   "name": "python",
   "nbconvert_exporter": "python",
   "pygments_lexer": "ipython3",
   "version": "3.11.5"
  }
 },
 "nbformat": 4,
 "nbformat_minor": 2
}
