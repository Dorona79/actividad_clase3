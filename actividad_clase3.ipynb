{
 "cells": [
  {
   "cell_type": "markdown",
   "metadata": {},
   "source": [
    "Ejercicios de Datos Complejos:\n",
    "\n",
    "Datos Simples:\n",
    "\n",
    "Crear una lista de nombres de ciudades."
   ]
  },
  {
   "cell_type": "code",
   "execution_count": 1,
   "metadata": {},
   "outputs": [
    {
     "name": "stdout",
     "output_type": "stream",
     "text": [
      "['Río Grande', 'Tolhuin', 'Ushuaia', 'Tandil', 'La Plata', 'Mar del Plata']\n"
     ]
    }
   ],
   "source": [
    "ciudades = [\"Río Grande\", \"Tolhuin\", \"Ushuaia\", \"Tandil\", \"La Plata\", \"Mar del Plata\"]\n",
    "print(ciudades)"
   ]
  }
 ],
 "metadata": {
  "kernelspec": {
   "display_name": "Python 3",
   "language": "python",
   "name": "python3"
  },
  "language_info": {
   "codemirror_mode": {
    "name": "ipython",
    "version": 3
   },
   "file_extension": ".py",
   "mimetype": "text/x-python",
   "name": "python",
   "nbconvert_exporter": "python",
   "pygments_lexer": "ipython3",
   "version": "3.11.5"
  }
 },
 "nbformat": 4,
 "nbformat_minor": 2
}
